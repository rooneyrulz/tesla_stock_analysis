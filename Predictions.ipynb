{
 "cells": [
  {
   "cell_type": "code",
   "execution_count": 1,
   "metadata": {},
   "outputs": [],
   "source": [
    "import numpy as np\n",
    "import pandas as pd\n",
    "import seaborn as sns\n",
    "import matplotlib.pyplot as plt"
   ]
  },
  {
   "cell_type": "code",
   "execution_count": 8,
   "metadata": {},
   "outputs": [],
   "source": [
    "# Import The CSV\n",
    "tsla_data = pd.read_csv('data/TSLA.csv', parse_dates=True)"
   ]
  },
  {
   "cell_type": "code",
   "execution_count": 9,
   "metadata": {},
   "outputs": [
    {
     "data": {
      "text/html": [
       "<div>\n",
       "<style scoped>\n",
       "    .dataframe tbody tr th:only-of-type {\n",
       "        vertical-align: middle;\n",
       "    }\n",
       "\n",
       "    .dataframe tbody tr th {\n",
       "        vertical-align: top;\n",
       "    }\n",
       "\n",
       "    .dataframe thead th {\n",
       "        text-align: right;\n",
       "    }\n",
       "</style>\n",
       "<table border=\"1\" class=\"dataframe\">\n",
       "  <thead>\n",
       "    <tr style=\"text-align: right;\">\n",
       "      <th></th>\n",
       "      <th>Date</th>\n",
       "      <th>Open</th>\n",
       "      <th>High</th>\n",
       "      <th>Low</th>\n",
       "      <th>Close</th>\n",
       "      <th>Adj Close</th>\n",
       "      <th>Volume</th>\n",
       "    </tr>\n",
       "  </thead>\n",
       "  <tbody>\n",
       "    <tr>\n",
       "      <th>0</th>\n",
       "      <td>2019-07-09</td>\n",
       "      <td>228.970001</td>\n",
       "      <td>231.000000</td>\n",
       "      <td>227.279999</td>\n",
       "      <td>230.059998</td>\n",
       "      <td>230.059998</td>\n",
       "      <td>6190800</td>\n",
       "    </tr>\n",
       "    <tr>\n",
       "      <th>1</th>\n",
       "      <td>2019-07-10</td>\n",
       "      <td>234.149994</td>\n",
       "      <td>238.940002</td>\n",
       "      <td>233.139999</td>\n",
       "      <td>238.919998</td>\n",
       "      <td>238.919998</td>\n",
       "      <td>9145700</td>\n",
       "    </tr>\n",
       "    <tr>\n",
       "      <th>2</th>\n",
       "      <td>2019-07-11</td>\n",
       "      <td>238.139999</td>\n",
       "      <td>241.500000</td>\n",
       "      <td>235.800003</td>\n",
       "      <td>238.600006</td>\n",
       "      <td>238.600006</td>\n",
       "      <td>7514400</td>\n",
       "    </tr>\n",
       "    <tr>\n",
       "      <th>3</th>\n",
       "      <td>2019-07-12</td>\n",
       "      <td>239.750000</td>\n",
       "      <td>245.380005</td>\n",
       "      <td>239.710007</td>\n",
       "      <td>245.080002</td>\n",
       "      <td>245.080002</td>\n",
       "      <td>9200500</td>\n",
       "    </tr>\n",
       "    <tr>\n",
       "      <th>4</th>\n",
       "      <td>2019-07-15</td>\n",
       "      <td>248.000000</td>\n",
       "      <td>254.419998</td>\n",
       "      <td>244.860001</td>\n",
       "      <td>253.500000</td>\n",
       "      <td>253.500000</td>\n",
       "      <td>11000100</td>\n",
       "    </tr>\n",
       "  </tbody>\n",
       "</table>\n",
       "</div>"
      ],
      "text/plain": [
       "         Date        Open        High         Low       Close   Adj Close  \\\n",
       "0  2019-07-09  228.970001  231.000000  227.279999  230.059998  230.059998   \n",
       "1  2019-07-10  234.149994  238.940002  233.139999  238.919998  238.919998   \n",
       "2  2019-07-11  238.139999  241.500000  235.800003  238.600006  238.600006   \n",
       "3  2019-07-12  239.750000  245.380005  239.710007  245.080002  245.080002   \n",
       "4  2019-07-15  248.000000  254.419998  244.860001  253.500000  253.500000   \n",
       "\n",
       "     Volume  \n",
       "0   6190800  \n",
       "1   9145700  \n",
       "2   7514400  \n",
       "3   9200500  \n",
       "4  11000100  "
      ]
     },
     "execution_count": 9,
     "metadata": {},
     "output_type": "execute_result"
    }
   ],
   "source": [
    "tsla_data.head()"
   ]
  },
  {
   "cell_type": "code",
   "execution_count": null,
   "metadata": {},
   "outputs": [],
   "source": []
  }
 ],
 "metadata": {
  "kernelspec": {
   "display_name": "Python 3",
   "language": "python",
   "name": "python3"
  },
  "language_info": {
   "codemirror_mode": {
    "name": "ipython",
    "version": 3
   },
   "file_extension": ".py",
   "mimetype": "text/x-python",
   "name": "python",
   "nbconvert_exporter": "python",
   "pygments_lexer": "ipython3",
   "version": "3.7.6"
  }
 },
 "nbformat": 4,
 "nbformat_minor": 4
}
